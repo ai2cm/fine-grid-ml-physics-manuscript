{
 "cells": [
  {
   "cell_type": "markdown",
   "id": "linear-spice",
   "metadata": {},
   "source": [
    "This notebook plots the initial evolution of biases in 3 runs: a no-ML baseline, a fine-only prognostic run and a n2f prognostic run.\n",
    "\n",
    "At most vertical levels and latitudes, both the fine-only and n2f prognostic runs have smaller temperature and humidity drifts than the baseline run. In general the n2f drifts are slightly smaller compare to fine-only, e.g. for temperature in the free troposphere (levels 25-60) or specific humidity in the boundary layer."
   ]
  },
  {
   "cell_type": "code",
   "execution_count": 1,
   "id": "historical-record",
   "metadata": {},
   "outputs": [
    {
     "data": {
      "text/plain": [
       "<xarray.core.options.set_options at 0x7f5a00404d30>"
      ]
     },
     "execution_count": 1,
     "metadata": {},
     "output_type": "execute_result"
    }
   ],
   "source": [
    "import numpy as np\n",
    "import xarray as xr\n",
    "import fsspec\n",
    "import matplotlib.pyplot as plt\n",
    "import vcm\n",
    "from vcm.catalog import catalog\n",
    "from vcm.fv3.metadata import gfdl_to_standard\n",
    "import datetime\n",
    "from datetime import timedelta\n",
    "import string\n",
    "import cftime\n",
    "import yaml\n",
    "from dask.distributed import Client\n",
    "from scipy.interpolate import interp1d\n",
    "plt.rcParams['figure.dpi'] = 150\n",
    "xr.set_options(keep_attrs=True)"
   ]
  },
  {
   "cell_type": "code",
   "execution_count": 2,
   "id": "private-arthur",
   "metadata": {},
   "outputs": [
    {
     "name": "stderr",
     "output_type": "stream",
     "text": [
      "/home/OliWM/miniconda3/envs/fv3net/lib/python3.8/site-packages/distributed/dashboard/core.py:20: UserWarning: \n",
      "Dask needs bokeh >= 2.4.2, < 3 for the dashboard.\n",
      "You have bokeh==2.2.3.\n",
      "Continuing without the dashboard.\n",
      "  warnings.warn(\n",
      "/home/OliWM/miniconda3/envs/fv3net/lib/python3.8/site-packages/distributed/node.py:183: UserWarning: Port 8787 is already in use.\n",
      "Perhaps you already have a cluster running?\n",
      "Hosting the HTTP server on port 34321 instead\n",
      "  warnings.warn(\n"
     ]
    },
    {
     "data": {
      "text/html": [
       "<div>\n",
       "    <div style=\"width: 24px; height: 24px; background-color: #e1e1e1; border: 3px solid #9D9D9D; border-radius: 5px; position: absolute;\"> </div>\n",
       "    <div style=\"margin-left: 48px;\">\n",
       "        <h3 style=\"margin-bottom: 0px;\">Client</h3>\n",
       "        <p style=\"color: #9D9D9D; margin-bottom: 0px;\">Client-5e58317b-93ab-11ed-8816-42010a800003</p>\n",
       "        <table style=\"width: 100%; text-align: left;\">\n",
       "\n",
       "        <tr>\n",
       "        \n",
       "            <td style=\"text-align: left;\"><strong>Connection method:</strong> Cluster object</td>\n",
       "            <td style=\"text-align: left;\"><strong>Cluster type:</strong> distributed.LocalCluster</td>\n",
       "        \n",
       "        </tr>\n",
       "\n",
       "        \n",
       "            <tr>\n",
       "                <td style=\"text-align: left;\">\n",
       "                    <strong>Dashboard: </strong> <a href=\"http://127.0.0.1:34321/status\" target=\"_blank\">http://127.0.0.1:34321/status</a>\n",
       "                </td>\n",
       "                <td style=\"text-align: left;\"></td>\n",
       "            </tr>\n",
       "        \n",
       "\n",
       "        </table>\n",
       "\n",
       "        \n",
       "\n",
       "        \n",
       "            <details>\n",
       "            <summary style=\"margin-bottom: 20px;\"><h3 style=\"display: inline;\">Cluster Info</h3></summary>\n",
       "            <div class=\"jp-RenderedHTMLCommon jp-RenderedHTML jp-mod-trusted jp-OutputArea-output\">\n",
       "    <div style=\"width: 24px; height: 24px; background-color: #e1e1e1; border: 3px solid #9D9D9D; border-radius: 5px; position: absolute;\">\n",
       "    </div>\n",
       "    <div style=\"margin-left: 48px;\">\n",
       "        <h3 style=\"margin-bottom: 0px; margin-top: 0px;\">LocalCluster</h3>\n",
       "        <p style=\"color: #9D9D9D; margin-bottom: 0px;\">0b364739</p>\n",
       "        <table style=\"width: 100%; text-align: left;\">\n",
       "            <tr>\n",
       "                <td style=\"text-align: left;\">\n",
       "                    <strong>Dashboard:</strong> <a href=\"http://127.0.0.1:34321/status\" target=\"_blank\">http://127.0.0.1:34321/status</a>\n",
       "                </td>\n",
       "                <td style=\"text-align: left;\">\n",
       "                    <strong>Workers:</strong> 4\n",
       "                </td>\n",
       "            </tr>\n",
       "            <tr>\n",
       "                <td style=\"text-align: left;\">\n",
       "                    <strong>Total threads:</strong> 8\n",
       "                </td>\n",
       "                <td style=\"text-align: left;\">\n",
       "                    <strong>Total memory:</strong> 29.39 GiB\n",
       "                </td>\n",
       "            </tr>\n",
       "            \n",
       "            <tr>\n",
       "    <td style=\"text-align: left;\"><strong>Status:</strong> running</td>\n",
       "    <td style=\"text-align: left;\"><strong>Using processes:</strong> True</td>\n",
       "</tr>\n",
       "\n",
       "            \n",
       "        </table>\n",
       "\n",
       "        <details>\n",
       "            <summary style=\"margin-bottom: 20px;\">\n",
       "                <h3 style=\"display: inline;\">Scheduler Info</h3>\n",
       "            </summary>\n",
       "\n",
       "            <div style=\"\">\n",
       "    <div>\n",
       "        <div style=\"width: 24px; height: 24px; background-color: #FFF7E5; border: 3px solid #FF6132; border-radius: 5px; position: absolute;\"> </div>\n",
       "        <div style=\"margin-left: 48px;\">\n",
       "            <h3 style=\"margin-bottom: 0px;\">Scheduler</h3>\n",
       "            <p style=\"color: #9D9D9D; margin-bottom: 0px;\">Scheduler-8c581ec2-e5e3-44b7-9969-9f116810661f</p>\n",
       "            <table style=\"width: 100%; text-align: left;\">\n",
       "                <tr>\n",
       "                    <td style=\"text-align: left;\">\n",
       "                        <strong>Comm:</strong> tcp://127.0.0.1:46153\n",
       "                    </td>\n",
       "                    <td style=\"text-align: left;\">\n",
       "                        <strong>Workers:</strong> 4\n",
       "                    </td>\n",
       "                </tr>\n",
       "                <tr>\n",
       "                    <td style=\"text-align: left;\">\n",
       "                        <strong>Dashboard:</strong> <a href=\"http://127.0.0.1:34321/status\" target=\"_blank\">http://127.0.0.1:34321/status</a>\n",
       "                    </td>\n",
       "                    <td style=\"text-align: left;\">\n",
       "                        <strong>Total threads:</strong> 8\n",
       "                    </td>\n",
       "                </tr>\n",
       "                <tr>\n",
       "                    <td style=\"text-align: left;\">\n",
       "                        <strong>Started:</strong> Just now\n",
       "                    </td>\n",
       "                    <td style=\"text-align: left;\">\n",
       "                        <strong>Total memory:</strong> 29.39 GiB\n",
       "                    </td>\n",
       "                </tr>\n",
       "            </table>\n",
       "        </div>\n",
       "    </div>\n",
       "\n",
       "    <details style=\"margin-left: 48px;\">\n",
       "        <summary style=\"margin-bottom: 20px;\">\n",
       "            <h3 style=\"display: inline;\">Workers</h3>\n",
       "        </summary>\n",
       "\n",
       "        \n",
       "        <div style=\"margin-bottom: 20px;\">\n",
       "            <div style=\"width: 24px; height: 24px; background-color: #DBF5FF; border: 3px solid #4CC9FF; border-radius: 5px; position: absolute;\"> </div>\n",
       "            <div style=\"margin-left: 48px;\">\n",
       "            <details>\n",
       "                <summary>\n",
       "                    <h4 style=\"margin-bottom: 0px; display: inline;\">Worker: 0</h4>\n",
       "                </summary>\n",
       "                <table style=\"width: 100%; text-align: left;\">\n",
       "                    <tr>\n",
       "                        <td style=\"text-align: left;\">\n",
       "                            <strong>Comm: </strong> tcp://127.0.0.1:42025\n",
       "                        </td>\n",
       "                        <td style=\"text-align: left;\">\n",
       "                            <strong>Total threads: </strong> 2\n",
       "                        </td>\n",
       "                    </tr>\n",
       "                    <tr>\n",
       "                        <td style=\"text-align: left;\">\n",
       "                            <strong>Dashboard: </strong> <a href=\"http://127.0.0.1:38209/status\" target=\"_blank\">http://127.0.0.1:38209/status</a>\n",
       "                        </td>\n",
       "                        <td style=\"text-align: left;\">\n",
       "                            <strong>Memory: </strong> 7.35 GiB\n",
       "                        </td>\n",
       "                    </tr>\n",
       "                    <tr>\n",
       "                        <td style=\"text-align: left;\">\n",
       "                            <strong>Nanny: </strong> tcp://127.0.0.1:36869\n",
       "                        </td>\n",
       "                        <td style=\"text-align: left;\"></td>\n",
       "                    </tr>\n",
       "                    <tr>\n",
       "                        <td colspan=\"2\" style=\"text-align: left;\">\n",
       "                            <strong>Local directory: </strong> /tmp/dask-worker-space/worker-zcs6cc1j\n",
       "                        </td>\n",
       "                    </tr>\n",
       "\n",
       "                    \n",
       "\n",
       "                    \n",
       "\n",
       "                </table>\n",
       "            </details>\n",
       "            </div>\n",
       "        </div>\n",
       "        \n",
       "        <div style=\"margin-bottom: 20px;\">\n",
       "            <div style=\"width: 24px; height: 24px; background-color: #DBF5FF; border: 3px solid #4CC9FF; border-radius: 5px; position: absolute;\"> </div>\n",
       "            <div style=\"margin-left: 48px;\">\n",
       "            <details>\n",
       "                <summary>\n",
       "                    <h4 style=\"margin-bottom: 0px; display: inline;\">Worker: 1</h4>\n",
       "                </summary>\n",
       "                <table style=\"width: 100%; text-align: left;\">\n",
       "                    <tr>\n",
       "                        <td style=\"text-align: left;\">\n",
       "                            <strong>Comm: </strong> tcp://127.0.0.1:33981\n",
       "                        </td>\n",
       "                        <td style=\"text-align: left;\">\n",
       "                            <strong>Total threads: </strong> 2\n",
       "                        </td>\n",
       "                    </tr>\n",
       "                    <tr>\n",
       "                        <td style=\"text-align: left;\">\n",
       "                            <strong>Dashboard: </strong> <a href=\"http://127.0.0.1:34135/status\" target=\"_blank\">http://127.0.0.1:34135/status</a>\n",
       "                        </td>\n",
       "                        <td style=\"text-align: left;\">\n",
       "                            <strong>Memory: </strong> 7.35 GiB\n",
       "                        </td>\n",
       "                    </tr>\n",
       "                    <tr>\n",
       "                        <td style=\"text-align: left;\">\n",
       "                            <strong>Nanny: </strong> tcp://127.0.0.1:37473\n",
       "                        </td>\n",
       "                        <td style=\"text-align: left;\"></td>\n",
       "                    </tr>\n",
       "                    <tr>\n",
       "                        <td colspan=\"2\" style=\"text-align: left;\">\n",
       "                            <strong>Local directory: </strong> /tmp/dask-worker-space/worker-uf6uthqx\n",
       "                        </td>\n",
       "                    </tr>\n",
       "\n",
       "                    \n",
       "\n",
       "                    \n",
       "\n",
       "                </table>\n",
       "            </details>\n",
       "            </div>\n",
       "        </div>\n",
       "        \n",
       "        <div style=\"margin-bottom: 20px;\">\n",
       "            <div style=\"width: 24px; height: 24px; background-color: #DBF5FF; border: 3px solid #4CC9FF; border-radius: 5px; position: absolute;\"> </div>\n",
       "            <div style=\"margin-left: 48px;\">\n",
       "            <details>\n",
       "                <summary>\n",
       "                    <h4 style=\"margin-bottom: 0px; display: inline;\">Worker: 2</h4>\n",
       "                </summary>\n",
       "                <table style=\"width: 100%; text-align: left;\">\n",
       "                    <tr>\n",
       "                        <td style=\"text-align: left;\">\n",
       "                            <strong>Comm: </strong> tcp://127.0.0.1:40647\n",
       "                        </td>\n",
       "                        <td style=\"text-align: left;\">\n",
       "                            <strong>Total threads: </strong> 2\n",
       "                        </td>\n",
       "                    </tr>\n",
       "                    <tr>\n",
       "                        <td style=\"text-align: left;\">\n",
       "                            <strong>Dashboard: </strong> <a href=\"http://127.0.0.1:41073/status\" target=\"_blank\">http://127.0.0.1:41073/status</a>\n",
       "                        </td>\n",
       "                        <td style=\"text-align: left;\">\n",
       "                            <strong>Memory: </strong> 7.35 GiB\n",
       "                        </td>\n",
       "                    </tr>\n",
       "                    <tr>\n",
       "                        <td style=\"text-align: left;\">\n",
       "                            <strong>Nanny: </strong> tcp://127.0.0.1:38143\n",
       "                        </td>\n",
       "                        <td style=\"text-align: left;\"></td>\n",
       "                    </tr>\n",
       "                    <tr>\n",
       "                        <td colspan=\"2\" style=\"text-align: left;\">\n",
       "                            <strong>Local directory: </strong> /tmp/dask-worker-space/worker-yfpnhajs\n",
       "                        </td>\n",
       "                    </tr>\n",
       "\n",
       "                    \n",
       "\n",
       "                    \n",
       "\n",
       "                </table>\n",
       "            </details>\n",
       "            </div>\n",
       "        </div>\n",
       "        \n",
       "        <div style=\"margin-bottom: 20px;\">\n",
       "            <div style=\"width: 24px; height: 24px; background-color: #DBF5FF; border: 3px solid #4CC9FF; border-radius: 5px; position: absolute;\"> </div>\n",
       "            <div style=\"margin-left: 48px;\">\n",
       "            <details>\n",
       "                <summary>\n",
       "                    <h4 style=\"margin-bottom: 0px; display: inline;\">Worker: 3</h4>\n",
       "                </summary>\n",
       "                <table style=\"width: 100%; text-align: left;\">\n",
       "                    <tr>\n",
       "                        <td style=\"text-align: left;\">\n",
       "                            <strong>Comm: </strong> tcp://127.0.0.1:42375\n",
       "                        </td>\n",
       "                        <td style=\"text-align: left;\">\n",
       "                            <strong>Total threads: </strong> 2\n",
       "                        </td>\n",
       "                    </tr>\n",
       "                    <tr>\n",
       "                        <td style=\"text-align: left;\">\n",
       "                            <strong>Dashboard: </strong> <a href=\"http://127.0.0.1:46237/status\" target=\"_blank\">http://127.0.0.1:46237/status</a>\n",
       "                        </td>\n",
       "                        <td style=\"text-align: left;\">\n",
       "                            <strong>Memory: </strong> 7.35 GiB\n",
       "                        </td>\n",
       "                    </tr>\n",
       "                    <tr>\n",
       "                        <td style=\"text-align: left;\">\n",
       "                            <strong>Nanny: </strong> tcp://127.0.0.1:43035\n",
       "                        </td>\n",
       "                        <td style=\"text-align: left;\"></td>\n",
       "                    </tr>\n",
       "                    <tr>\n",
       "                        <td colspan=\"2\" style=\"text-align: left;\">\n",
       "                            <strong>Local directory: </strong> /tmp/dask-worker-space/worker-gqsaw62c\n",
       "                        </td>\n",
       "                    </tr>\n",
       "\n",
       "                    \n",
       "\n",
       "                    \n",
       "\n",
       "                </table>\n",
       "            </details>\n",
       "            </div>\n",
       "        </div>\n",
       "        \n",
       "\n",
       "    </details>\n",
       "</div>\n",
       "\n",
       "        </details>\n",
       "    </div>\n",
       "</div>\n",
       "            </details>\n",
       "        \n",
       "\n",
       "    </div>\n",
       "</div>"
      ],
      "text/plain": [
       "<Client: 'tcp://127.0.0.1:46153' processes=4 threads=8, memory=29.39 GiB>"
      ]
     },
     "execution_count": 2,
     "metadata": {},
     "output_type": "execute_result"
    }
   ],
   "source": [
    "Client()"
   ]
  },
  {
   "cell_type": "code",
   "execution_count": 3,
   "id": "ahead-porcelain",
   "metadata": {},
   "outputs": [],
   "source": [
    "with open('run_urls.yaml') as f:\n",
    "    runs = yaml.safe_load(f)"
   ]
  },
  {
   "cell_type": "code",
   "execution_count": 5,
   "id": "amino-luxury",
   "metadata": {},
   "outputs": [
    {
     "ename": "SyntaxError",
     "evalue": "invalid syntax (<ipython-input-5-2f9745f7f483>, line 4)",
     "output_type": "error",
     "traceback": [
      "\u001b[0;36m  File \u001b[0;32m\"<ipython-input-5-2f9745f7f483>\"\u001b[0;36m, line \u001b[0;32m4\u001b[0m\n\u001b[0;31m    \"nudge-to-fine\": runs['n2f-35day']['url'],,\u001b[0m\n\u001b[0m                                              ^\u001b[0m\n\u001b[0;31mSyntaxError\u001b[0m\u001b[0;31m:\u001b[0m invalid syntax\n"
     ]
    }
   ],
   "source": [
    "urls = {\n",
    "    \"baseline\": runs['baseline-10day']['url'],\n",
    "    \"ML-physics\": runs['prog-10day-seed5']['url'],\n",
    "    \"nudge-to-fine\": runs['n2f-35day']['url'],,\n",
    "}\n",
    "verif_url = 'gs://vcm-ml-experiments/default/2021-12-16/2020-05-27-40-day-X-SHiELD-simulation-v2/fine-res-budget.zarr'"
   ]
  },
  {
   "cell_type": "code",
   "execution_count": null,
   "id": "supposed-folks",
   "metadata": {},
   "outputs": [],
   "source": [
    "INIT_TIME = cftime.DatetimeJulian(2016, 8, 5)"
   ]
  },
  {
   "cell_type": "code",
   "execution_count": null,
   "id": "existing-nowhere",
   "metadata": {},
   "outputs": [],
   "source": [
    "with open('ak.txt') as f:\n",
    "    ak = list(map(float, f))\n",
    "with open('bk.txt') as f:\n",
    "    bk = list(map(float, f))\n",
    "\n",
    "# reference pressure levels in hPa assuming 1000hPa surface pressure\n",
    "plev = np.array(ak)/100 + np.array(bk) * 1000  \n",
    "plev_mid = 0.5 * (plev[:-1] + plev[1:])\n",
    "\n",
    "f = interp1d(plev_mid, range(0, 79), fill_value='extrapolate')\n",
    "tick_labels = [3, 100, 300, 500, 700, 850, 1000]\n",
    "tick_indices = f(tick_labels)"
   ]
  },
  {
   "cell_type": "code",
   "execution_count": null,
   "id": "loaded-vacation",
   "metadata": {},
   "outputs": [],
   "source": [
    "grid = catalog['grid/c48'].to_dask().load()"
   ]
  },
  {
   "cell_type": "code",
   "execution_count": null,
   "id": "southern-parliament",
   "metadata": {},
   "outputs": [],
   "source": [
    "def open_zarr(url):\n",
    "    return xr.open_zarr(fsspec.get_mapper(url))"
   ]
  },
  {
   "cell_type": "code",
   "execution_count": null,
   "id": "continuing-accreditation",
   "metadata": {},
   "outputs": [],
   "source": [
    "ds = []\n",
    "for name, url in urls.items():\n",
    "    tmp = open_zarr(url + '/state_after_timestep.zarr')\n",
    "    ds.append(tmp.assign_coords(run=name))\n",
    "ds = xr.concat(ds, dim='run', join='inner')"
   ]
  },
  {
   "cell_type": "code",
   "execution_count": null,
   "id": "blank-evans",
   "metadata": {},
   "outputs": [],
   "source": [
    "verif = open_zarr(verif_url)\n",
    "verif = gfdl_to_standard(verif).drop('tile')\n",
    "verif['time'] = verif.time + datetime.timedelta(minutes=7, seconds=30)\n",
    "verif = verif.rename(\n",
    "    T='air_temperature', sphum='specific_humidity', delp='pressure_thickness_of_atmospheric_layer',\n",
    "    LHTFLsfc_coarse='latent_heat_flux', SHTFLsfc_coarse='sensible_heat_flux'\n",
    ")"
   ]
  },
  {
   "cell_type": "code",
   "execution_count": null,
   "id": "driven-affairs",
   "metadata": {},
   "outputs": [],
   "source": [
    "variables = ['air_temperature', 'specific_humidity', 'pressure_thickness_of_atmospheric_layer', 'sensible_heat_flux', 'latent_heat_flux']"
   ]
  },
  {
   "cell_type": "code",
   "execution_count": null,
   "id": "ahead-commitment",
   "metadata": {},
   "outputs": [],
   "source": [
    "ds_all = xr.concat([ds[variables], verif[variables].assign_coords(run='verif')], dim='run', join='inner')"
   ]
  },
  {
   "cell_type": "code",
   "execution_count": null,
   "id": "endangered-facing",
   "metadata": {
    "tags": []
   },
   "outputs": [],
   "source": [
    "global_mean = vcm.weighted_average(ds_all, grid.area).compute()"
   ]
  },
  {
   "cell_type": "code",
   "execution_count": null,
   "id": "eastern-ecuador",
   "metadata": {
    "tags": []
   },
   "outputs": [],
   "source": [
    "tropical_ascent_mean = vcm.weighted_average(ds_all, grid.area.where(grid.lat>5).where(grid.lat<20)).compute()"
   ]
  },
  {
   "cell_type": "code",
   "execution_count": null,
   "id": "flying-efficiency",
   "metadata": {},
   "outputs": [],
   "source": [
    "error = global_mean - global_mean.sel(run='verif')\n",
    "error = error.isel(run=slice(3))\n",
    "error = xr.concat([xr.zeros_like(error.isel(time=0)).assign_coords(time=INIT_TIME), error], dim='time')\n",
    "error['time'] = (error.time - error.time[0]).values / np.timedelta64(1, 'h')\n",
    "error.time.attrs['units'] = 'hours elapsed'"
   ]
  },
  {
   "cell_type": "code",
   "execution_count": null,
   "id": "electric-exchange",
   "metadata": {},
   "outputs": [],
   "source": [
    "ta_error = tropical_ascent_mean - tropical_ascent_mean.sel(run='verif')\n",
    "ta_error = ta_error.isel(run=slice(3))\n",
    "ta_error = xr.concat([xr.zeros_like(ta_error.isel(time=0)).assign_coords(time=INIT_TIME), ta_error], dim='time')\n",
    "ta_error['time'] = (ta_error.time - ta_error.time[0]).values / np.timedelta64(1, 'h')\n",
    "ta_error.time.attrs['units'] = 'hours elapsed'"
   ]
  },
  {
   "cell_type": "markdown",
   "id": "coated-announcement",
   "metadata": {},
   "source": [
    "### Plot global mean error as function of model level and time\n",
    "Showing first 3 days of simulations"
   ]
  },
  {
   "cell_type": "code",
   "execution_count": null,
   "id": "arbitrary-rolling",
   "metadata": {},
   "outputs": [],
   "source": [
    "def plot_three_panel(da, set_xticks=True, use_reference_pressure=True, **kwargs):\n",
    "    fg = da.plot(y='z', yincrease=False, col='run', **kwargs)\n",
    "    fg.fig.set_size_inches((10, 2.7))\n",
    "    fg.set_titles(template='{value}')\n",
    "    if set_xticks:\n",
    "        for ax in fg.axes.flat:\n",
    "            ax.set_xticks(range(0, 241, 48))\n",
    "    if use_reference_pressure:\n",
    "        for i, ax in enumerate(fg.axes.flat):\n",
    "            ax.set_ylim([79, 0])\n",
    "            ax.set_yticks(tick_indices)\n",
    "            if i == 0:\n",
    "                ax.set_yticklabels(tick_labels)\n",
    "                ax.set_ylabel('Reference pressure [hPa]')\n",
    "    for letter, ax in zip(string.ascii_lowercase, fg.axes.flat):\n",
    "        title = ax.get_title()\n",
    "        ax.set_title(f'{letter}) {title}')"
   ]
  },
  {
   "cell_type": "code",
   "execution_count": null,
   "id": "south-location",
   "metadata": {},
   "outputs": [],
   "source": [
    "plot_three_panel(error.air_temperature.sel(time=slice(0, 72)), set_xticks=False)"
   ]
  },
  {
   "cell_type": "code",
   "execution_count": null,
   "id": "affected-vehicle",
   "metadata": {
    "tags": []
   },
   "outputs": [],
   "source": [
    "plot_three_panel(error.specific_humidity.sel(time=slice(0, 72)), set_xticks=False)"
   ]
  },
  {
   "cell_type": "markdown",
   "id": "considered-passage",
   "metadata": {},
   "source": [
    "Showing first 10 days"
   ]
  },
  {
   "cell_type": "code",
   "execution_count": null,
   "id": "painful-tucson",
   "metadata": {},
   "outputs": [],
   "source": [
    "plot_three_panel(error.air_temperature.sel(time=slice(0, 240)), vmin=-2, vmax=2, cmap='RdBu_r')"
   ]
  },
  {
   "cell_type": "code",
   "execution_count": null,
   "id": "featured-lounge",
   "metadata": {},
   "outputs": [],
   "source": [
    "plot_three_panel(error.specific_humidity.sel(time=slice(0, 240)))"
   ]
  },
  {
   "cell_type": "markdown",
   "id": "skilled-finland",
   "metadata": {},
   "source": [
    "### Plot tropical ascent region (5°N - 20°N) mean bias"
   ]
  },
  {
   "cell_type": "code",
   "execution_count": null,
   "id": "indonesian-premises",
   "metadata": {},
   "outputs": [],
   "source": [
    "plot_three_panel(ta_error.air_temperature, set_xticks=False)"
   ]
  },
  {
   "cell_type": "code",
   "execution_count": null,
   "id": "processed-tribute",
   "metadata": {},
   "outputs": [],
   "source": [
    "plot_three_panel(ta_error.specific_humidity, set_xticks=False)"
   ]
  },
  {
   "cell_type": "markdown",
   "id": "liked-definition",
   "metadata": {},
   "source": [
    "### Open pre-computed diagnostics to plot zonal mean biases"
   ]
  },
  {
   "cell_type": "code",
   "execution_count": null,
   "id": "everyday-crest",
   "metadata": {},
   "outputs": [],
   "source": [
    "urls_long = {\n",
    "    \"baseline\": \"gs://vcm-ml-experiments/default/2022-11-21/ml-on-fine-baseline-long-trial-0/fv3gfs_run\",\n",
    "    \"ML-physics (seed-5)\": f\"gs://vcm-ml-experiments/default/2022-11-18/ml-on-fine-ensemble-prog-5-long-trial-0/fv3gfs_run\",\n",
    "    \"ML-physics (seed-7)\": f\"gs://vcm-ml-experiments/default/2022-11-18/ml-on-fine-ensemble-prog-7-long-trial-0/fv3gfs_run\",\n",
    "    \"nudge-to-fine\": \"gs://vcm-ml-experiments/default/2022-05-09/ml-on-fine-hybrid-comp-n2f-v3/fv3gfs_run\",\n",
    "}\n",
    "verif_url = 'gs://vcm-ml-experiments/default/2021-12-16/2020-05-27-40-day-X-SHiELD-simulation-v2/fine-res-budget.zarr'"
   ]
  },
  {
   "cell_type": "code",
   "execution_count": null,
   "id": "fluid-piece",
   "metadata": {},
   "outputs": [],
   "source": [
    "fs = fsspec.filesystem('gs')\n",
    "reduced_diags = []\n",
    "for name, url in urls_long.items():\n",
    "    tmp = vcm.open_remote_nc(fs, url+'_diagnostics/diags.nc')\n",
    "    reduced_diags.append(tmp.assign_coords(run=name))\n",
    "reduced_diags = xr.concat(reduced_diags, dim='run')\n",
    "reduced_diags = reduced_diags.assign_coords(pressure=reduced_diags.pressure/100)\n",
    "reduced_diags['pressure'].attrs['units'] = 'hPa'\n",
    "reduced_diags['specific_humidity_pressure_level_zonal_bias'] = 1000 * reduced_diags['specific_humidity_pressure_level_zonal_bias']\n",
    "reduced_diags['specific_humidity_pressure_level_zonal_bias'].attrs['units'] = 'g/kg'\n",
    "reduced_diags['relative_humidity_pressure_level_zonal_bias'] = 100 * reduced_diags['relative_humidity_pressure_level_zonal_bias']\n",
    "reduced_diags['relative_humidity_pressure_level_zonal_bias'].attrs['units'] = '%'"
   ]
  },
  {
   "cell_type": "code",
   "execution_count": null,
   "id": "animated-permission",
   "metadata": {},
   "outputs": [],
   "source": [
    "for variable in ['air_temperature', 'specific_humidity', 'relative_humidity']:\n",
    "    reduced_diags[f'{variable}_pressure_level_zonal_bias'].attrs['long_name'] = variable.replace('_', ' ') + ' bias'"
   ]
  },
  {
   "cell_type": "code",
   "execution_count": null,
   "id": "certain-bulgaria",
   "metadata": {},
   "outputs": [],
   "source": [
    "reduced_diags_only_seed5 = reduced_diags.sel(run=['baseline', 'ML-physics (seed-5)', 'nudge-to-fine'])\n",
    "reduced_diags_only_seed5 = reduced_diags_only_seed5.assign_coords(run=['baseline', 'ML-physics', 'nudge-to-fine'])"
   ]
  },
  {
   "cell_type": "code",
   "execution_count": null,
   "id": "faced-professor",
   "metadata": {},
   "outputs": [],
   "source": [
    "value = 'total_precip_to_surface_zonal_mean_value'\n",
    "err = 'total_precip_to_surface_zonal_mean_bias'\n",
    "verif = (reduced_diags[value].isel(run=0) - reduced_diags[err].isel(run=0)).assign_coords(run='fine-res')\n",
    "hov = xr.concat([reduced_diags[value], verif], dim='run')\n"
   ]
  },
  {
   "cell_type": "code",
   "execution_count": null,
   "id": "alike-liberia",
   "metadata": {},
   "outputs": [],
   "source": [
    "def make_nice_labels(fg):\n",
    "    fg.set_titles(template='{value}')\n",
    "    fg.axes.flat[0].set_xticks(np.arange(-80, 91, 40))\n",
    "    fg.axes.flat[0].set_xticklabels(['80S', '40S', 'EQ', '40N', '80N'])\n",
    "    for letter, ax in zip(string.ascii_lowercase, fg.axes.flat):\n",
    "        title = ax.get_title()\n",
    "        ax.set_title(f'{letter}) {title}')\n",
    "        ax.set_xlabel('')"
   ]
  },
  {
   "cell_type": "code",
   "execution_count": null,
   "id": "parallel-patrick",
   "metadata": {},
   "outputs": [],
   "source": [
    "plotme = hov.sel(time=slice('2016-08-05', '2016-08-14T21:00:00'))\n",
    "plotme.attrs['long_name'] = 'surface precipitation rate'\n",
    "fg = plotme.plot(col='run', y='time', yincrease=False)\n",
    "fg.fig.set_size_inches((13.5, 2.8))\n",
    "fg.axes.flat[0].set_yticks([cftime.datetime(2016,8,d) for d in [5, 7, 9, 11, 13, 15]])\n",
    "fg.axes.flat[0].set_ylabel('')\n",
    "make_nice_labels(fg)"
   ]
  },
  {
   "cell_type": "code",
   "execution_count": null,
   "id": "final-sandwich",
   "metadata": {},
   "outputs": [],
   "source": [
    "plotme = hov\n",
    "plotme.attrs['long_name'] = 'surface precipitation rate'\n",
    "fg = plotme.plot(col='run', y='time', yincrease=False)\n",
    "fg.fig.set_size_inches((13.5, 2.8))\n",
    "fg.axes.flat[0].set_yticks([cftime.datetime(2016,8,5) + td for td in [timedelta(days=x) for x in range(0, 36, 5)]])\n",
    "fg.axes.flat[0].set_ylabel('')\n",
    "make_nice_labels(fg)"
   ]
  },
  {
   "cell_type": "code",
   "execution_count": null,
   "id": "partial-bread",
   "metadata": {},
   "outputs": [],
   "source": [
    "da = reduced_diags_only_seed5.air_temperature_pressure_level_zonal_bias\n",
    "fg = da.plot.contourf(col='run', y='pressure', yincrease=False, vmin=-9.5, vmax=9.5, levels=20, cmap='RdBu_r')\n",
    "make_nice_labels(fg)"
   ]
  },
  {
   "cell_type": "code",
   "execution_count": null,
   "id": "cosmetic-colonial",
   "metadata": {},
   "outputs": [],
   "source": [
    "da = reduced_diags_only_seed5.specific_humidity_pressure_level_zonal_bias\n",
    "fg = da.plot.contourf(col='run', y='pressure', yincrease=False, vmin=-2.125, vmax=2.125, levels=18, cmap='RdBu_r')\n",
    "make_nice_labels(fg)"
   ]
  },
  {
   "cell_type": "code",
   "execution_count": null,
   "id": "technological-davis",
   "metadata": {},
   "outputs": [],
   "source": [
    "da = reduced_diags_only_seed5.relative_humidity_pressure_level_zonal_bias\n",
    "fg = da.plot.contourf(col='run', y='pressure', yincrease=False, vmin=-42, vmax=42, levels=22, cmap='RdBu_r', extend='both')\n",
    "make_nice_labels(fg)"
   ]
  },
  {
   "cell_type": "markdown",
   "id": "mysterious-today",
   "metadata": {},
   "source": [
    "## "
   ]
  }
 ],
 "metadata": {
  "kernelspec": {
   "display_name": "Python 3",
   "language": "python",
   "name": "python3"
  },
  "language_info": {
   "codemirror_mode": {
    "name": "ipython",
    "version": 3
   },
   "file_extension": ".py",
   "mimetype": "text/x-python",
   "name": "python",
   "nbconvert_exporter": "python",
   "pygments_lexer": "ipython3",
   "version": "3.8.13"
  },
  "vscode": {
   "interpreter": {
    "hash": "31f2aee4e71d21fbe5cf8b01ff0e069b9275f58929596ceb00d14d90e3e16cd6"
   }
  }
 },
 "nbformat": 4,
 "nbformat_minor": 5
}
