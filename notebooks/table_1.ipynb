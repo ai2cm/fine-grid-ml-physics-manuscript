{
 "cells": [
  {
   "cell_type": "code",
   "execution_count": 1,
   "id": "regular-detroit",
   "metadata": {
    "execution": {
     "iopub.execute_input": "2023-01-18T17:24:58.581466Z",
     "iopub.status.busy": "2023-01-18T17:24:58.580816Z",
     "iopub.status.idle": "2023-01-18T17:25:09.211310Z",
     "shell.execute_reply": "2023-01-18T17:25:09.210575Z"
    }
   },
   "outputs": [],
   "source": [
    "import pandas as pd\n",
    "import fsspec\n",
    "import yaml\n",
    "from fv3net.diagnostics.prognostic_run import ComputedDiagnosticsList"
   ]
  },
  {
   "cell_type": "code",
   "execution_count": 2,
   "id": "transsexual-providence",
   "metadata": {
    "execution": {
     "iopub.execute_input": "2023-01-18T17:25:09.233176Z",
     "iopub.status.busy": "2023-01-18T17:25:09.232099Z",
     "iopub.status.idle": "2023-01-18T17:25:09.236407Z",
     "shell.execute_reply": "2023-01-18T17:25:09.235741Z"
    }
   },
   "outputs": [],
   "source": [
    "with open('run_urls.yaml') as f:\n",
    "    run_urls = yaml.safe_load(f)"
   ]
  },
  {
   "cell_type": "markdown",
   "id": "silver-mounting",
   "metadata": {},
   "source": [
    "### Load metrics from ensemble of 10-day forecasts, for 3-7 day RMSE metrics"
   ]
  },
  {
   "cell_type": "code",
   "execution_count": 3,
   "id": "existing-johnston",
   "metadata": {
    "execution": {
     "iopub.execute_input": "2023-01-18T17:25:09.242914Z",
     "iopub.status.busy": "2023-01-18T17:25:09.242211Z",
     "iopub.status.idle": "2023-01-18T17:25:09.244654Z",
     "shell.execute_reply": "2023-01-18T17:25:09.245137Z"
    }
   },
   "outputs": [],
   "source": [
    "start_dates = ['0805', '0813', '0821', '0829']\n",
    "urls_baseline = {\n",
    "    f'baseline-{ic}': run_urls[f'baseline-10day-ic-{ic}']['url'] + '_diagnostics'\n",
    "    for ic in start_dates\n",
    "}\n",
    "urls_ml_physics = {\n",
    "    f'ml-physics-{ic}': run_urls[f'prog-10day-ic-{ic}']['url'] + '_diagnostics'\n",
    "    for ic in start_dates\n",
    "}\n",
    "urls_nudge_to_fine = {\n",
    "    f'nudge-to-fine-{ic}': run_urls[f'n2f-10day-ic-{ic}']['url'] + '_diagnostics'\n",
    "    for ic in start_dates\n",
    "}\n",
    "urls = {**urls_baseline, **urls_ml_physics, **urls_nudge_to_fine}"
   ]
  },
  {
   "cell_type": "code",
   "execution_count": 4,
   "id": "entitled-edinburgh",
   "metadata": {
    "execution": {
     "iopub.execute_input": "2023-01-18T17:25:09.250992Z",
     "iopub.status.busy": "2023-01-18T17:25:09.249869Z",
     "iopub.status.idle": "2023-01-18T17:25:11.272891Z",
     "shell.execute_reply": "2023-01-18T17:25:11.272343Z"
    }
   },
   "outputs": [],
   "source": [
    "cd = ComputedDiagnosticsList.from_dict(urls)\n",
    "metrics = cd.load_metrics()"
   ]
  },
  {
   "cell_type": "code",
   "execution_count": 5,
   "id": "minor-geneva",
   "metadata": {
    "execution": {
     "iopub.execute_input": "2023-01-18T17:25:11.287405Z",
     "iopub.status.busy": "2023-01-18T17:25:11.286565Z",
     "iopub.status.idle": "2023-01-18T17:25:11.290294Z",
     "shell.execute_reply": "2023-01-18T17:25:11.289731Z"
    }
   },
   "outputs": [
    {
     "data": {
      "text/plain": [
       "{'percentile_25',\n",
       " 'percentile_50',\n",
       " 'percentile_75',\n",
       " 'percentile_90',\n",
       " 'percentile_99',\n",
       " 'percentile_99.9',\n",
       " 'rmse_3day',\n",
       " 'rmse_5day',\n",
       " 'rmse_days_3to7_avg',\n",
       " 'rmse_of_time_mean',\n",
       " 'rmse_of_time_mean_land',\n",
       " 'rmse_of_time_mean_sea',\n",
       " 'time_and_global_mean_bias',\n",
       " 'time_and_global_mean_value',\n",
       " 'time_and_land_mean_bias',\n",
       " 'time_and_land_mean_value',\n",
       " 'time_and_sea_mean_bias',\n",
       " 'time_and_sea_mean_value',\n",
       " 'tropical_ascent_region_mean',\n",
       " 'tropics_max_minus_min'}"
      ]
     },
     "execution_count": 1,
     "metadata": {},
     "output_type": "execute_result"
    }
   ],
   "source": [
    "metrics.types"
   ]
  },
  {
   "cell_type": "code",
   "execution_count": 6,
   "id": "retained-alberta",
   "metadata": {
    "execution": {
     "iopub.execute_input": "2023-01-18T17:25:11.297023Z",
     "iopub.status.busy": "2023-01-18T17:25:11.296343Z",
     "iopub.status.idle": "2023-01-18T17:25:11.299258Z",
     "shell.execute_reply": "2023-01-18T17:25:11.298791Z"
    }
   },
   "outputs": [],
   "source": [
    "def metric_with_improvements(metrics, metric_type, variable):\n",
    "    output = metrics.get_metric_all_runs(metric_type, variable)\n",
    "    output.loc[:, 'run_type'] = [x[:-5] for x in output.loc[:, 'run']]\n",
    "\n",
    "    improvements = []\n",
    "    for run in output.run:\n",
    "        corresponding_baseline = 'baseline-' + run[-4:]\n",
    "        run_value = output.loc[output['run'] == run]['value']\n",
    "        baseline_value = output.loc[output['run'] == corresponding_baseline]['value']\n",
    "        improvements.append(run_value.item() - baseline_value.item())\n",
    "    output['improvement'] = improvements\n",
    "    \n",
    "    return output"
   ]
  },
  {
   "cell_type": "code",
   "execution_count": 7,
   "id": "moving-covering",
   "metadata": {
    "execution": {
     "iopub.execute_input": "2023-01-18T17:25:11.306618Z",
     "iopub.status.busy": "2023-01-18T17:25:11.304161Z",
     "iopub.status.idle": "2023-01-18T17:25:11.322756Z",
     "shell.execute_reply": "2023-01-18T17:25:11.322160Z"
    }
   },
   "outputs": [
    {
     "name": "stderr",
     "output_type": "stream",
     "text": [
      "/home/OliWM/miniconda3/envs/fv3net/lib/python3.8/site-packages/pandas/core/indexing.py:1667: SettingWithCopyWarning: \n",
      "A value is trying to be set on a copy of a slice from a DataFrame.\n",
      "Try using .loc[row_indexer,col_indexer] = value instead\n",
      "\n",
      "See the caveats in the documentation: https://pandas.pydata.org/pandas-docs/stable/user_guide/indexing.html#returning-a-view-versus-a-copy\n",
      "  self.obj[key] = value\n",
      "<ipython-input-1-07b9eccbf770>:11: SettingWithCopyWarning: \n",
      "A value is trying to be set on a copy of a slice from a DataFrame.\n",
      "Try using .loc[row_indexer,col_indexer] = value instead\n",
      "\n",
      "See the caveats in the documentation: https://pandas.pydata.org/pandas-docs/stable/user_guide/indexing.html#returning-a-view-versus-a-copy\n",
      "  output['improvement'] = improvements\n"
     ]
    }
   ],
   "source": [
    "rmse_h500 = metric_with_improvements(metrics, 'rmse_days_3to7_avg', 'h500')"
   ]
  },
  {
   "cell_type": "code",
   "execution_count": 8,
   "id": "exclusive-permit",
   "metadata": {
    "execution": {
     "iopub.execute_input": "2023-01-18T17:25:11.327908Z",
     "iopub.status.busy": "2023-01-18T17:25:11.327328Z",
     "iopub.status.idle": "2023-01-18T17:25:11.340989Z",
     "shell.execute_reply": "2023-01-18T17:25:11.340406Z"
    }
   },
   "outputs": [
    {
     "data": {
      "text/html": [
       "<div>\n",
       "<style scoped>\n",
       "    .dataframe tbody tr th:only-of-type {\n",
       "        vertical-align: middle;\n",
       "    }\n",
       "\n",
       "    .dataframe tbody tr th {\n",
       "        vertical-align: top;\n",
       "    }\n",
       "\n",
       "    .dataframe thead th {\n",
       "        text-align: right;\n",
       "    }\n",
       "</style>\n",
       "<table border=\"1\" class=\"dataframe\">\n",
       "  <thead>\n",
       "    <tr style=\"text-align: right;\">\n",
       "      <th></th>\n",
       "      <th>run</th>\n",
       "      <th>baseline</th>\n",
       "      <th>metric</th>\n",
       "      <th>value</th>\n",
       "      <th>units</th>\n",
       "      <th>run_type</th>\n",
       "      <th>improvement</th>\n",
       "    </tr>\n",
       "  </thead>\n",
       "  <tbody>\n",
       "    <tr>\n",
       "      <th>38</th>\n",
       "      <td>baseline-0805</td>\n",
       "      <td>True</td>\n",
       "      <td>rmse_days_3to7_avg/h500</td>\n",
       "      <td>56.206383</td>\n",
       "      <td>m</td>\n",
       "      <td>baseline</td>\n",
       "      <td>0.000000</td>\n",
       "    </tr>\n",
       "    <tr>\n",
       "      <th>329</th>\n",
       "      <td>baseline-0813</td>\n",
       "      <td>True</td>\n",
       "      <td>rmse_days_3to7_avg/h500</td>\n",
       "      <td>54.000507</td>\n",
       "      <td>m</td>\n",
       "      <td>baseline</td>\n",
       "      <td>0.000000</td>\n",
       "    </tr>\n",
       "    <tr>\n",
       "      <th>620</th>\n",
       "      <td>baseline-0821</td>\n",
       "      <td>True</td>\n",
       "      <td>rmse_days_3to7_avg/h500</td>\n",
       "      <td>63.744751</td>\n",
       "      <td>m</td>\n",
       "      <td>baseline</td>\n",
       "      <td>0.000000</td>\n",
       "    </tr>\n",
       "    <tr>\n",
       "      <th>911</th>\n",
       "      <td>baseline-0829</td>\n",
       "      <td>True</td>\n",
       "      <td>rmse_days_3to7_avg/h500</td>\n",
       "      <td>55.898529</td>\n",
       "      <td>m</td>\n",
       "      <td>baseline</td>\n",
       "      <td>0.000000</td>\n",
       "    </tr>\n",
       "    <tr>\n",
       "      <th>1202</th>\n",
       "      <td>ml-physics-0805</td>\n",
       "      <td>False</td>\n",
       "      <td>rmse_days_3to7_avg/h500</td>\n",
       "      <td>55.234680</td>\n",
       "      <td>m</td>\n",
       "      <td>ml-physics</td>\n",
       "      <td>-0.971703</td>\n",
       "    </tr>\n",
       "    <tr>\n",
       "      <th>1493</th>\n",
       "      <td>ml-physics-0813</td>\n",
       "      <td>False</td>\n",
       "      <td>rmse_days_3to7_avg/h500</td>\n",
       "      <td>55.747902</td>\n",
       "      <td>m</td>\n",
       "      <td>ml-physics</td>\n",
       "      <td>1.747395</td>\n",
       "    </tr>\n",
       "    <tr>\n",
       "      <th>1784</th>\n",
       "      <td>ml-physics-0821</td>\n",
       "      <td>False</td>\n",
       "      <td>rmse_days_3to7_avg/h500</td>\n",
       "      <td>62.331226</td>\n",
       "      <td>m</td>\n",
       "      <td>ml-physics</td>\n",
       "      <td>-1.413525</td>\n",
       "    </tr>\n",
       "    <tr>\n",
       "      <th>2075</th>\n",
       "      <td>ml-physics-0829</td>\n",
       "      <td>False</td>\n",
       "      <td>rmse_days_3to7_avg/h500</td>\n",
       "      <td>55.530334</td>\n",
       "      <td>m</td>\n",
       "      <td>ml-physics</td>\n",
       "      <td>-0.368195</td>\n",
       "    </tr>\n",
       "    <tr>\n",
       "      <th>2366</th>\n",
       "      <td>nudge-to-fine-0805</td>\n",
       "      <td>False</td>\n",
       "      <td>rmse_days_3to7_avg/h500</td>\n",
       "      <td>53.547924</td>\n",
       "      <td>m</td>\n",
       "      <td>nudge-to-fine</td>\n",
       "      <td>-2.658459</td>\n",
       "    </tr>\n",
       "    <tr>\n",
       "      <th>2657</th>\n",
       "      <td>nudge-to-fine-0813</td>\n",
       "      <td>False</td>\n",
       "      <td>rmse_days_3to7_avg/h500</td>\n",
       "      <td>52.827892</td>\n",
       "      <td>m</td>\n",
       "      <td>nudge-to-fine</td>\n",
       "      <td>-1.172615</td>\n",
       "    </tr>\n",
       "    <tr>\n",
       "      <th>2948</th>\n",
       "      <td>nudge-to-fine-0821</td>\n",
       "      <td>False</td>\n",
       "      <td>rmse_days_3to7_avg/h500</td>\n",
       "      <td>62.985130</td>\n",
       "      <td>m</td>\n",
       "      <td>nudge-to-fine</td>\n",
       "      <td>-0.759621</td>\n",
       "    </tr>\n",
       "    <tr>\n",
       "      <th>3239</th>\n",
       "      <td>nudge-to-fine-0829</td>\n",
       "      <td>False</td>\n",
       "      <td>rmse_days_3to7_avg/h500</td>\n",
       "      <td>55.063683</td>\n",
       "      <td>m</td>\n",
       "      <td>nudge-to-fine</td>\n",
       "      <td>-0.834846</td>\n",
       "    </tr>\n",
       "  </tbody>\n",
       "</table>\n",
       "</div>"
      ],
      "text/plain": [
       "                     run  baseline                   metric      value units  \\\n",
       "38         baseline-0805      True  rmse_days_3to7_avg/h500  56.206383     m   \n",
       "329        baseline-0813      True  rmse_days_3to7_avg/h500  54.000507     m   \n",
       "620        baseline-0821      True  rmse_days_3to7_avg/h500  63.744751     m   \n",
       "911        baseline-0829      True  rmse_days_3to7_avg/h500  55.898529     m   \n",
       "1202     ml-physics-0805     False  rmse_days_3to7_avg/h500  55.234680     m   \n",
       "1493     ml-physics-0813     False  rmse_days_3to7_avg/h500  55.747902     m   \n",
       "1784     ml-physics-0821     False  rmse_days_3to7_avg/h500  62.331226     m   \n",
       "2075     ml-physics-0829     False  rmse_days_3to7_avg/h500  55.530334     m   \n",
       "2366  nudge-to-fine-0805     False  rmse_days_3to7_avg/h500  53.547924     m   \n",
       "2657  nudge-to-fine-0813     False  rmse_days_3to7_avg/h500  52.827892     m   \n",
       "2948  nudge-to-fine-0821     False  rmse_days_3to7_avg/h500  62.985130     m   \n",
       "3239  nudge-to-fine-0829     False  rmse_days_3to7_avg/h500  55.063683     m   \n",
       "\n",
       "           run_type  improvement  \n",
       "38         baseline     0.000000  \n",
       "329        baseline     0.000000  \n",
       "620        baseline     0.000000  \n",
       "911        baseline     0.000000  \n",
       "1202     ml-physics    -0.971703  \n",
       "1493     ml-physics     1.747395  \n",
       "1784     ml-physics    -1.413525  \n",
       "2075     ml-physics    -0.368195  \n",
       "2366  nudge-to-fine    -2.658459  \n",
       "2657  nudge-to-fine    -1.172615  \n",
       "2948  nudge-to-fine    -0.759621  \n",
       "3239  nudge-to-fine    -0.834846  "
      ]
     },
     "execution_count": 1,
     "metadata": {},
     "output_type": "execute_result"
    }
   ],
   "source": [
    "rmse_h500"
   ]
  },
  {
   "cell_type": "markdown",
   "id": "annoying-scholarship",
   "metadata": {},
   "source": [
    "#### Mean"
   ]
  },
  {
   "cell_type": "code",
   "execution_count": 9,
   "id": "billion-authentication",
   "metadata": {
    "execution": {
     "iopub.execute_input": "2023-01-18T17:25:11.353813Z",
     "iopub.status.busy": "2023-01-18T17:25:11.353016Z",
     "iopub.status.idle": "2023-01-18T17:25:11.356763Z",
     "shell.execute_reply": "2023-01-18T17:25:11.356231Z"
    }
   },
   "outputs": [
    {
     "data": {
      "text/html": [
       "<div>\n",
       "<style scoped>\n",
       "    .dataframe tbody tr th:only-of-type {\n",
       "        vertical-align: middle;\n",
       "    }\n",
       "\n",
       "    .dataframe tbody tr th {\n",
       "        vertical-align: top;\n",
       "    }\n",
       "\n",
       "    .dataframe thead th {\n",
       "        text-align: right;\n",
       "    }\n",
       "</style>\n",
       "<table border=\"1\" class=\"dataframe\">\n",
       "  <thead>\n",
       "    <tr style=\"text-align: right;\">\n",
       "      <th></th>\n",
       "      <th>baseline</th>\n",
       "      <th>value</th>\n",
       "      <th>improvement</th>\n",
       "    </tr>\n",
       "    <tr>\n",
       "      <th>run_type</th>\n",
       "      <th></th>\n",
       "      <th></th>\n",
       "      <th></th>\n",
       "    </tr>\n",
       "  </thead>\n",
       "  <tbody>\n",
       "    <tr>\n",
       "      <th>baseline</th>\n",
       "      <td>1.0</td>\n",
       "      <td>57.462543</td>\n",
       "      <td>0.000000</td>\n",
       "    </tr>\n",
       "    <tr>\n",
       "      <th>ml-physics</th>\n",
       "      <td>0.0</td>\n",
       "      <td>57.211036</td>\n",
       "      <td>-0.251507</td>\n",
       "    </tr>\n",
       "    <tr>\n",
       "      <th>nudge-to-fine</th>\n",
       "      <td>0.0</td>\n",
       "      <td>56.106157</td>\n",
       "      <td>-1.356385</td>\n",
       "    </tr>\n",
       "  </tbody>\n",
       "</table>\n",
       "</div>"
      ],
      "text/plain": [
       "               baseline      value  improvement\n",
       "run_type                                       \n",
       "baseline            1.0  57.462543     0.000000\n",
       "ml-physics          0.0  57.211036    -0.251507\n",
       "nudge-to-fine       0.0  56.106157    -1.356385"
      ]
     },
     "execution_count": 1,
     "metadata": {},
     "output_type": "execute_result"
    }
   ],
   "source": [
    "rmse_h500.groupby('run_type').mean()"
   ]
  },
  {
   "cell_type": "markdown",
   "id": "occupied-hometown",
   "metadata": {},
   "source": [
    "#### Standard deviation"
   ]
  },
  {
   "cell_type": "code",
   "execution_count": 10,
   "id": "southwest-proxy",
   "metadata": {
    "execution": {
     "iopub.execute_input": "2023-01-18T17:25:11.369494Z",
     "iopub.status.busy": "2023-01-18T17:25:11.368937Z",
     "iopub.status.idle": "2023-01-18T17:25:11.371943Z",
     "shell.execute_reply": "2023-01-18T17:25:11.372335Z"
    }
   },
   "outputs": [
    {
     "data": {
      "text/html": [
       "<div>\n",
       "<style scoped>\n",
       "    .dataframe tbody tr th:only-of-type {\n",
       "        vertical-align: middle;\n",
       "    }\n",
       "\n",
       "    .dataframe tbody tr th {\n",
       "        vertical-align: top;\n",
       "    }\n",
       "\n",
       "    .dataframe thead th {\n",
       "        text-align: right;\n",
       "    }\n",
       "</style>\n",
       "<table border=\"1\" class=\"dataframe\">\n",
       "  <thead>\n",
       "    <tr style=\"text-align: right;\">\n",
       "      <th></th>\n",
       "      <th>baseline</th>\n",
       "      <th>value</th>\n",
       "      <th>improvement</th>\n",
       "    </tr>\n",
       "    <tr>\n",
       "      <th>run_type</th>\n",
       "      <th></th>\n",
       "      <th></th>\n",
       "      <th></th>\n",
       "    </tr>\n",
       "  </thead>\n",
       "  <tbody>\n",
       "    <tr>\n",
       "      <th>baseline</th>\n",
       "      <td>0.0</td>\n",
       "      <td>4.300229</td>\n",
       "      <td>0.000000</td>\n",
       "    </tr>\n",
       "    <tr>\n",
       "      <th>ml-physics</th>\n",
       "      <td>0.0</td>\n",
       "      <td>3.419934</td>\n",
       "      <td>1.399785</td>\n",
       "    </tr>\n",
       "    <tr>\n",
       "      <th>nudge-to-fine</th>\n",
       "      <td>0.0</td>\n",
       "      <td>4.679694</td>\n",
       "      <td>0.886434</td>\n",
       "    </tr>\n",
       "  </tbody>\n",
       "</table>\n",
       "</div>"
      ],
      "text/plain": [
       "               baseline     value  improvement\n",
       "run_type                                      \n",
       "baseline            0.0  4.300229     0.000000\n",
       "ml-physics          0.0  3.419934     1.399785\n",
       "nudge-to-fine       0.0  4.679694     0.886434"
      ]
     },
     "execution_count": 1,
     "metadata": {},
     "output_type": "execute_result"
    }
   ],
   "source": [
    "rmse_h500.groupby('run_type').std()"
   ]
  },
  {
   "cell_type": "code",
   "execution_count": 11,
   "id": "collect-cover",
   "metadata": {
    "execution": {
     "iopub.execute_input": "2023-01-18T17:25:11.391028Z",
     "iopub.status.busy": "2023-01-18T17:25:11.390440Z",
     "iopub.status.idle": "2023-01-18T17:25:11.393304Z",
     "shell.execute_reply": "2023-01-18T17:25:11.392758Z"
    }
   },
   "outputs": [
    {
     "name": "stderr",
     "output_type": "stream",
     "text": [
      "/home/OliWM/miniconda3/envs/fv3net/lib/python3.8/site-packages/pandas/core/indexing.py:1667: SettingWithCopyWarning: \n",
      "A value is trying to be set on a copy of a slice from a DataFrame.\n",
      "Try using .loc[row_indexer,col_indexer] = value instead\n",
      "\n",
      "See the caveats in the documentation: https://pandas.pydata.org/pandas-docs/stable/user_guide/indexing.html#returning-a-view-versus-a-copy\n",
      "  self.obj[key] = value\n",
      "<ipython-input-1-07b9eccbf770>:11: SettingWithCopyWarning: \n",
      "A value is trying to be set on a copy of a slice from a DataFrame.\n",
      "Try using .loc[row_indexer,col_indexer] = value instead\n",
      "\n",
      "See the caveats in the documentation: https://pandas.pydata.org/pandas-docs/stable/user_guide/indexing.html#returning-a-view-versus-a-copy\n",
      "  output['improvement'] = improvements\n"
     ]
    }
   ],
   "source": [
    "rmse_tmp850 = metric_with_improvements(metrics, 'rmse_days_3to7_avg', 'tmp850')"
   ]
  },
  {
   "cell_type": "code",
   "execution_count": 12,
   "id": "numerical-fellow",
   "metadata": {
    "execution": {
     "iopub.execute_input": "2023-01-18T17:25:11.404511Z",
     "iopub.status.busy": "2023-01-18T17:25:11.403860Z",
     "iopub.status.idle": "2023-01-18T17:25:11.408149Z",
     "shell.execute_reply": "2023-01-18T17:25:11.407571Z"
    }
   },
   "outputs": [
    {
     "data": {
      "text/html": [
       "<div>\n",
       "<style scoped>\n",
       "    .dataframe tbody tr th:only-of-type {\n",
       "        vertical-align: middle;\n",
       "    }\n",
       "\n",
       "    .dataframe tbody tr th {\n",
       "        vertical-align: top;\n",
       "    }\n",
       "\n",
       "    .dataframe thead th {\n",
       "        text-align: right;\n",
       "    }\n",
       "</style>\n",
       "<table border=\"1\" class=\"dataframe\">\n",
       "  <thead>\n",
       "    <tr style=\"text-align: right;\">\n",
       "      <th></th>\n",
       "      <th>baseline</th>\n",
       "      <th>value</th>\n",
       "      <th>improvement</th>\n",
       "    </tr>\n",
       "    <tr>\n",
       "      <th>run_type</th>\n",
       "      <th></th>\n",
       "      <th></th>\n",
       "      <th></th>\n",
       "    </tr>\n",
       "  </thead>\n",
       "  <tbody>\n",
       "    <tr>\n",
       "      <th>baseline</th>\n",
       "      <td>1.0</td>\n",
       "      <td>2.867559</td>\n",
       "      <td>0.000000</td>\n",
       "    </tr>\n",
       "    <tr>\n",
       "      <th>ml-physics</th>\n",
       "      <td>0.0</td>\n",
       "      <td>2.771214</td>\n",
       "      <td>-0.096345</td>\n",
       "    </tr>\n",
       "    <tr>\n",
       "      <th>nudge-to-fine</th>\n",
       "      <td>0.0</td>\n",
       "      <td>2.571139</td>\n",
       "      <td>-0.296420</td>\n",
       "    </tr>\n",
       "  </tbody>\n",
       "</table>\n",
       "</div>"
      ],
      "text/plain": [
       "               baseline     value  improvement\n",
       "run_type                                      \n",
       "baseline            1.0  2.867559     0.000000\n",
       "ml-physics          0.0  2.771214    -0.096345\n",
       "nudge-to-fine       0.0  2.571139    -0.296420"
      ]
     },
     "execution_count": 1,
     "metadata": {},
     "output_type": "execute_result"
    }
   ],
   "source": [
    "rmse_tmp850.groupby('run_type').mean()"
   ]
  },
  {
   "cell_type": "code",
   "execution_count": 13,
   "id": "domestic-garage",
   "metadata": {
    "execution": {
     "iopub.execute_input": "2023-01-18T17:25:11.419262Z",
     "iopub.status.busy": "2023-01-18T17:25:11.418602Z",
     "iopub.status.idle": "2023-01-18T17:25:11.422533Z",
     "shell.execute_reply": "2023-01-18T17:25:11.421950Z"
    }
   },
   "outputs": [
    {
     "data": {
      "text/html": [
       "<div>\n",
       "<style scoped>\n",
       "    .dataframe tbody tr th:only-of-type {\n",
       "        vertical-align: middle;\n",
       "    }\n",
       "\n",
       "    .dataframe tbody tr th {\n",
       "        vertical-align: top;\n",
       "    }\n",
       "\n",
       "    .dataframe thead th {\n",
       "        text-align: right;\n",
       "    }\n",
       "</style>\n",
       "<table border=\"1\" class=\"dataframe\">\n",
       "  <thead>\n",
       "    <tr style=\"text-align: right;\">\n",
       "      <th></th>\n",
       "      <th>baseline</th>\n",
       "      <th>value</th>\n",
       "      <th>improvement</th>\n",
       "    </tr>\n",
       "    <tr>\n",
       "      <th>run_type</th>\n",
       "      <th></th>\n",
       "      <th></th>\n",
       "      <th></th>\n",
       "    </tr>\n",
       "  </thead>\n",
       "  <tbody>\n",
       "    <tr>\n",
       "      <th>baseline</th>\n",
       "      <td>0.0</td>\n",
       "      <td>0.108910</td>\n",
       "      <td>0.000000</td>\n",
       "    </tr>\n",
       "    <tr>\n",
       "      <th>ml-physics</th>\n",
       "      <td>0.0</td>\n",
       "      <td>0.090272</td>\n",
       "      <td>0.057262</td>\n",
       "    </tr>\n",
       "    <tr>\n",
       "      <th>nudge-to-fine</th>\n",
       "      <td>0.0</td>\n",
       "      <td>0.106239</td>\n",
       "      <td>0.037411</td>\n",
       "    </tr>\n",
       "  </tbody>\n",
       "</table>\n",
       "</div>"
      ],
      "text/plain": [
       "               baseline     value  improvement\n",
       "run_type                                      \n",
       "baseline            0.0  0.108910     0.000000\n",
       "ml-physics          0.0  0.090272     0.057262\n",
       "nudge-to-fine       0.0  0.106239     0.037411"
      ]
     },
     "execution_count": 1,
     "metadata": {},
     "output_type": "execute_result"
    }
   ],
   "source": [
    "rmse_tmp850.groupby('run_type').std()"
   ]
  },
  {
   "cell_type": "markdown",
   "id": "close-eleven",
   "metadata": {},
   "source": [
    "### Load metrics from 35-day forecasts, for time-mean metrics"
   ]
  },
  {
   "cell_type": "code",
   "execution_count": 14,
   "id": "juvenile-region",
   "metadata": {
    "execution": {
     "iopub.execute_input": "2023-01-18T17:25:11.427072Z",
     "iopub.status.busy": "2023-01-18T17:25:11.426560Z",
     "iopub.status.idle": "2023-01-18T17:25:11.428795Z",
     "shell.execute_reply": "2023-01-18T17:25:11.429164Z"
    }
   },
   "outputs": [],
   "source": [
    "urls_35day = {\n",
    "    \"baseline\": run_urls[\"baseline-35day\"][\"url\"] + \"_diagnostics\",\n",
    "    \"ML-physics\": run_urls[\"prog-35day-seed5\"][\"url\"] + \"_diagnostics\",\n",
    "    \"nudge-to-fine\": run_urls[\"n2f-35day\"][\"url\"] + \"_diagnostics\",\n",
    "}"
   ]
  },
  {
   "cell_type": "code",
   "execution_count": 15,
   "id": "retired-worth",
   "metadata": {
    "execution": {
     "iopub.execute_input": "2023-01-18T17:25:11.434227Z",
     "iopub.status.busy": "2023-01-18T17:25:11.433747Z",
     "iopub.status.idle": "2023-01-18T17:25:11.748639Z",
     "shell.execute_reply": "2023-01-18T17:25:11.747947Z"
    }
   },
   "outputs": [],
   "source": [
    "cd = ComputedDiagnosticsList.from_dict(urls_35day)\n",
    "metrics_35day = cd.load_metrics()"
   ]
  },
  {
   "cell_type": "code",
   "execution_count": 16,
   "id": "educated-auction",
   "metadata": {
    "execution": {
     "iopub.execute_input": "2023-01-18T17:25:11.760941Z",
     "iopub.status.busy": "2023-01-18T17:25:11.754131Z",
     "iopub.status.idle": "2023-01-18T17:25:11.766289Z",
     "shell.execute_reply": "2023-01-18T17:25:11.765613Z"
    }
   },
   "outputs": [
    {
     "data": {
      "text/html": [
       "<div>\n",
       "<style scoped>\n",
       "    .dataframe tbody tr th:only-of-type {\n",
       "        vertical-align: middle;\n",
       "    }\n",
       "\n",
       "    .dataframe tbody tr th {\n",
       "        vertical-align: top;\n",
       "    }\n",
       "\n",
       "    .dataframe thead th {\n",
       "        text-align: right;\n",
       "    }\n",
       "</style>\n",
       "<table border=\"1\" class=\"dataframe\">\n",
       "  <thead>\n",
       "    <tr style=\"text-align: right;\">\n",
       "      <th></th>\n",
       "      <th>run</th>\n",
       "      <th>baseline</th>\n",
       "      <th>metric</th>\n",
       "      <th>value</th>\n",
       "      <th>units</th>\n",
       "    </tr>\n",
       "  </thead>\n",
       "  <tbody>\n",
       "    <tr>\n",
       "      <th>183</th>\n",
       "      <td>baseline</td>\n",
       "      <td>True</td>\n",
       "      <td>rmse_of_time_mean/total_precip_to_surface</td>\n",
       "      <td>3.246038</td>\n",
       "      <td>mm/day</td>\n",
       "    </tr>\n",
       "    <tr>\n",
       "      <th>474</th>\n",
       "      <td>ML-physics</td>\n",
       "      <td>False</td>\n",
       "      <td>rmse_of_time_mean/total_precip_to_surface</td>\n",
       "      <td>2.737714</td>\n",
       "      <td>mm/day</td>\n",
       "    </tr>\n",
       "    <tr>\n",
       "      <th>765</th>\n",
       "      <td>nudge-to-fine</td>\n",
       "      <td>False</td>\n",
       "      <td>rmse_of_time_mean/total_precip_to_surface</td>\n",
       "      <td>2.393489</td>\n",
       "      <td>mm/day</td>\n",
       "    </tr>\n",
       "  </tbody>\n",
       "</table>\n",
       "</div>"
      ],
      "text/plain": [
       "               run  baseline                                     metric  \\\n",
       "183       baseline      True  rmse_of_time_mean/total_precip_to_surface   \n",
       "474     ML-physics     False  rmse_of_time_mean/total_precip_to_surface   \n",
       "765  nudge-to-fine     False  rmse_of_time_mean/total_precip_to_surface   \n",
       "\n",
       "        value   units  \n",
       "183  3.246038  mm/day  \n",
       "474  2.737714  mm/day  \n",
       "765  2.393489  mm/day  "
      ]
     },
     "execution_count": 1,
     "metadata": {},
     "output_type": "execute_result"
    }
   ],
   "source": [
    "metrics_35day.get_metric_all_runs('rmse_of_time_mean', 'total_precip_to_surface')"
   ]
  },
  {
   "cell_type": "code",
   "execution_count": 17,
   "id": "chinese-thumbnail",
   "metadata": {
    "execution": {
     "iopub.execute_input": "2023-01-18T17:25:11.777753Z",
     "iopub.status.busy": "2023-01-18T17:25:11.777071Z",
     "iopub.status.idle": "2023-01-18T17:25:11.780992Z",
     "shell.execute_reply": "2023-01-18T17:25:11.780499Z"
    }
   },
   "outputs": [
    {
     "data": {
      "text/html": [
       "<div>\n",
       "<style scoped>\n",
       "    .dataframe tbody tr th:only-of-type {\n",
       "        vertical-align: middle;\n",
       "    }\n",
       "\n",
       "    .dataframe tbody tr th {\n",
       "        vertical-align: top;\n",
       "    }\n",
       "\n",
       "    .dataframe thead th {\n",
       "        text-align: right;\n",
       "    }\n",
       "</style>\n",
       "<table border=\"1\" class=\"dataframe\">\n",
       "  <thead>\n",
       "    <tr style=\"text-align: right;\">\n",
       "      <th></th>\n",
       "      <th>run</th>\n",
       "      <th>baseline</th>\n",
       "      <th>metric</th>\n",
       "      <th>value</th>\n",
       "      <th>units</th>\n",
       "    </tr>\n",
       "  </thead>\n",
       "  <tbody>\n",
       "    <tr>\n",
       "      <th>145</th>\n",
       "      <td>baseline</td>\n",
       "      <td>True</td>\n",
       "      <td>time_and_land_mean_bias/total_precip_to_surface</td>\n",
       "      <td>0.950176</td>\n",
       "      <td>mm/day</td>\n",
       "    </tr>\n",
       "    <tr>\n",
       "      <th>436</th>\n",
       "      <td>ML-physics</td>\n",
       "      <td>False</td>\n",
       "      <td>time_and_land_mean_bias/total_precip_to_surface</td>\n",
       "      <td>0.585575</td>\n",
       "      <td>mm/day</td>\n",
       "    </tr>\n",
       "    <tr>\n",
       "      <th>727</th>\n",
       "      <td>nudge-to-fine</td>\n",
       "      <td>False</td>\n",
       "      <td>time_and_land_mean_bias/total_precip_to_surface</td>\n",
       "      <td>0.021713</td>\n",
       "      <td>mm/day</td>\n",
       "    </tr>\n",
       "  </tbody>\n",
       "</table>\n",
       "</div>"
      ],
      "text/plain": [
       "               run  baseline                                           metric  \\\n",
       "145       baseline      True  time_and_land_mean_bias/total_precip_to_surface   \n",
       "436     ML-physics     False  time_and_land_mean_bias/total_precip_to_surface   \n",
       "727  nudge-to-fine     False  time_and_land_mean_bias/total_precip_to_surface   \n",
       "\n",
       "        value   units  \n",
       "145  0.950176  mm/day  \n",
       "436  0.585575  mm/day  \n",
       "727  0.021713  mm/day  "
      ]
     },
     "execution_count": 1,
     "metadata": {},
     "output_type": "execute_result"
    }
   ],
   "source": [
    "metrics_35day.get_metric_all_runs('time_and_land_mean_bias', 'total_precip_to_surface')"
   ]
  },
  {
   "cell_type": "code",
   "execution_count": 18,
   "id": "amended-divorce",
   "metadata": {
    "execution": {
     "iopub.execute_input": "2023-01-18T17:25:11.792020Z",
     "iopub.status.busy": "2023-01-18T17:25:11.791374Z",
     "iopub.status.idle": "2023-01-18T17:25:11.794848Z",
     "shell.execute_reply": "2023-01-18T17:25:11.794399Z"
    }
   },
   "outputs": [
    {
     "data": {
      "text/html": [
       "<div>\n",
       "<style scoped>\n",
       "    .dataframe tbody tr th:only-of-type {\n",
       "        vertical-align: middle;\n",
       "    }\n",
       "\n",
       "    .dataframe tbody tr th {\n",
       "        vertical-align: top;\n",
       "    }\n",
       "\n",
       "    .dataframe thead th {\n",
       "        text-align: right;\n",
       "    }\n",
       "</style>\n",
       "<table border=\"1\" class=\"dataframe\">\n",
       "  <thead>\n",
       "    <tr style=\"text-align: right;\">\n",
       "      <th></th>\n",
       "      <th>run</th>\n",
       "      <th>baseline</th>\n",
       "      <th>metric</th>\n",
       "      <th>value</th>\n",
       "      <th>units</th>\n",
       "    </tr>\n",
       "  </thead>\n",
       "  <tbody>\n",
       "    <tr>\n",
       "      <th>181</th>\n",
       "      <td>baseline</td>\n",
       "      <td>True</td>\n",
       "      <td>rmse_of_time_mean/tmp850</td>\n",
       "      <td>2.064156</td>\n",
       "      <td>K</td>\n",
       "    </tr>\n",
       "    <tr>\n",
       "      <th>472</th>\n",
       "      <td>ML-physics</td>\n",
       "      <td>False</td>\n",
       "      <td>rmse_of_time_mean/tmp850</td>\n",
       "      <td>1.835317</td>\n",
       "      <td>K</td>\n",
       "    </tr>\n",
       "    <tr>\n",
       "      <th>763</th>\n",
       "      <td>nudge-to-fine</td>\n",
       "      <td>False</td>\n",
       "      <td>rmse_of_time_mean/tmp850</td>\n",
       "      <td>2.268574</td>\n",
       "      <td>K</td>\n",
       "    </tr>\n",
       "  </tbody>\n",
       "</table>\n",
       "</div>"
      ],
      "text/plain": [
       "               run  baseline                    metric     value units\n",
       "181       baseline      True  rmse_of_time_mean/tmp850  2.064156     K\n",
       "472     ML-physics     False  rmse_of_time_mean/tmp850  1.835317     K\n",
       "763  nudge-to-fine     False  rmse_of_time_mean/tmp850  2.268574     K"
      ]
     },
     "execution_count": 1,
     "metadata": {},
     "output_type": "execute_result"
    }
   ],
   "source": [
    "metrics_35day.get_metric_all_runs('rmse_of_time_mean', 'tmp850')"
   ]
  },
  {
   "cell_type": "code",
   "execution_count": 19,
   "id": "former-giant",
   "metadata": {
    "execution": {
     "iopub.execute_input": "2023-01-18T17:25:11.806607Z",
     "iopub.status.busy": "2023-01-18T17:25:11.805398Z",
     "iopub.status.idle": "2023-01-18T17:25:11.810115Z",
     "shell.execute_reply": "2023-01-18T17:25:11.809522Z"
    }
   },
   "outputs": [
    {
     "data": {
      "text/html": [
       "<div>\n",
       "<style scoped>\n",
       "    .dataframe tbody tr th:only-of-type {\n",
       "        vertical-align: middle;\n",
       "    }\n",
       "\n",
       "    .dataframe tbody tr th {\n",
       "        vertical-align: top;\n",
       "    }\n",
       "\n",
       "    .dataframe thead th {\n",
       "        text-align: right;\n",
       "    }\n",
       "</style>\n",
       "<table border=\"1\" class=\"dataframe\">\n",
       "  <thead>\n",
       "    <tr style=\"text-align: right;\">\n",
       "      <th></th>\n",
       "      <th>run</th>\n",
       "      <th>baseline</th>\n",
       "      <th>metric</th>\n",
       "      <th>value</th>\n",
       "      <th>units</th>\n",
       "    </tr>\n",
       "  </thead>\n",
       "  <tbody>\n",
       "    <tr>\n",
       "      <th>180</th>\n",
       "      <td>baseline</td>\n",
       "      <td>True</td>\n",
       "      <td>rmse_of_time_mean/tmp200</td>\n",
       "      <td>2.084215</td>\n",
       "      <td>K</td>\n",
       "    </tr>\n",
       "    <tr>\n",
       "      <th>471</th>\n",
       "      <td>ML-physics</td>\n",
       "      <td>False</td>\n",
       "      <td>rmse_of_time_mean/tmp200</td>\n",
       "      <td>2.254584</td>\n",
       "      <td>K</td>\n",
       "    </tr>\n",
       "    <tr>\n",
       "      <th>762</th>\n",
       "      <td>nudge-to-fine</td>\n",
       "      <td>False</td>\n",
       "      <td>rmse_of_time_mean/tmp200</td>\n",
       "      <td>2.023804</td>\n",
       "      <td>K</td>\n",
       "    </tr>\n",
       "  </tbody>\n",
       "</table>\n",
       "</div>"
      ],
      "text/plain": [
       "               run  baseline                    metric     value units\n",
       "180       baseline      True  rmse_of_time_mean/tmp200  2.084215     K\n",
       "471     ML-physics     False  rmse_of_time_mean/tmp200  2.254584     K\n",
       "762  nudge-to-fine     False  rmse_of_time_mean/tmp200  2.023804     K"
      ]
     },
     "execution_count": 1,
     "metadata": {},
     "output_type": "execute_result"
    }
   ],
   "source": [
    "metrics_35day.get_metric_all_runs('rmse_of_time_mean', 'tmp200')"
   ]
  },
  {
   "cell_type": "code",
   "execution_count": null,
   "id": "formal-frederick",
   "metadata": {},
   "outputs": [],
   "source": []
  },
  {
   "cell_type": "code",
   "execution_count": null,
   "id": "smaller-registrar",
   "metadata": {},
   "outputs": [],
   "source": []
  }
 ],
 "metadata": {
  "kernelspec": {
   "display_name": "Python 3",
   "language": "python",
   "name": "python3"
  },
  "language_info": {
   "codemirror_mode": {
    "name": "ipython",
    "version": 3
   },
   "file_extension": ".py",
   "mimetype": "text/x-python",
   "name": "python",
   "nbconvert_exporter": "python",
   "pygments_lexer": "ipython3",
   "version": "3.8.13"
  }
 },
 "nbformat": 4,
 "nbformat_minor": 5
}
